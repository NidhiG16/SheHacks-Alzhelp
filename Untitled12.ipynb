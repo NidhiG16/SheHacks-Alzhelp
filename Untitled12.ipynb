{
 "cells": [
  {
   "cell_type": "code",
   "execution_count": 1,
   "id": "d62f54d3",
   "metadata": {},
   "outputs": [],
   "source": [
    "import ipywidgets as widgets\n",
    "from IPython.display import display\n",
    "import pandas as pd\n",
    "import matplotlib.pyplot as plt\n",
    "%matplotlib inline\n"
   ]
  },
  {
   "cell_type": "code",
   "execution_count": 2,
   "id": "c6c5da53",
   "metadata": {},
   "outputs": [],
   "source": [
    "df = pd.read_csv('sample data1 (1).csv')\n"
   ]
  },
  {
   "cell_type": "code",
   "execution_count": 3,
   "id": "1be50523",
   "metadata": {},
   "outputs": [],
   "source": [
    "def plot_data(data):\n",
    "    plt.plot(data)\n",
    "    plt.show()\n"
   ]
  },
  {
   "cell_type": "code",
   "execution_count": 4,
   "id": "7da104bc",
   "metadata": {},
   "outputs": [],
   "source": [
    "data_widget = widgets.Dropdown(options=list(df.columns), description='Select Data')"
   ]
  },
  {
   "cell_type": "code",
   "execution_count": 5,
   "id": "51cedca8",
   "metadata": {},
   "outputs": [],
   "source": [
    "def update_plot(change):\n",
    "    data = df[change.new]\n",
    "    plot_data(data)\n"
   ]
  },
  {
   "cell_type": "code",
   "execution_count": 6,
   "id": "70d6b278",
   "metadata": {},
   "outputs": [],
   "source": [
    "data_widget.observe(update_plot, names='value')\n"
   ]
  },
  {
   "cell_type": "code",
   "execution_count": 7,
   "id": "d84549d1",
   "metadata": {},
   "outputs": [
    {
     "data": {
      "application/vnd.jupyter.widget-view+json": {
       "model_id": "192c8cbeafc84b1896e96faa2da78f68",
       "version_major": 2,
       "version_minor": 0
      },
      "text/plain": [
       "Dropdown(description='Select Data', options=('Date', 'Show/No show', 'weight', 'diastolic BP', 'systolic BP', …"
      ]
     },
     "metadata": {},
     "output_type": "display_data"
    },
    {
     "data": {
      "image/png": "[encoded data removed]",
      "text/plain": [
       "<Figure size 432x288 with 1 Axes>"
      ]
     },
     "metadata": {
      "needs_background": "light"
     },
     "output_type": "display_data"
    }
   ],
   "source": [
    "display(data_widget)"
   ]
  },
  {
   "cell_type": "code",
   "execution_count": null,
   "id": "b7f65509",
   "metadata": {},
   "outputs": [],
   "source": []
  }
 ],
 "metadata": {
  "kernelspec": {
   "display_name": "Python 3 (ipykernel)",
   "language": "python",
   "name": "python3"
  },
  "language_info": {
   "codemirror_mode": {
    "name": "ipython",
    "version": 3
   },
   "file_extension": ".py",
   "mimetype": "text/x-python",
   "name": "python",
   "nbconvert_exporter": "python",
   "pygments_lexer": "ipython3",
   "version": "3.9.12"
  }
 },
 "nbformat": 4,
 "nbformat_minor": 5
}
